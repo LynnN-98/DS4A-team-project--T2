{
  "nbformat": 4,
  "nbformat_minor": 0,
  "metadata": {
    "colab": {
      "name": "Google News Scraping.ipynb",
      "provenance": [],
      "toc_visible": true
    },
    "kernelspec": {
      "name": "python3",
      "display_name": "Python 3"
    },
    "language_info": {
      "name": "python"
    }
  },
  "cells": [
    {
      "cell_type": "markdown",
      "metadata": {
        "id": "wRyJAUtbpjb6",
        "tags": []
      },
      "source": [
        "# Google News Scraping\n",
        "\n"
      ]
    },
    {
      "cell_type": "code",
      "execution_count": null,
      "metadata": {
        "id": "dooc0VFdpmAy"
      },
      "outputs": [],
      "source": [
        "import os\n",
        "import time\n",
        "import urllib.request\n",
        "from multiprocessing import Pool\n",
        "\n",
        "import pandas as pd\n",
        "from selenium import webdriver\n",
        "from selenium.webdriver.common.keys import Keys"
      ]
    },
    {
      "cell_type": "code",
      "execution_count": null,
      "metadata": {
        "id": "LZpk7vp-pvhA",
        "colab": {
          "base_uri": "https://localhost:8080/"
        },
        "outputId": "d8ec7d42-855a-4017-92c2-5925c5ebd79f"
      },
      "outputs": [
        {
          "output_type": "execute_result",
          "data": {
            "text/plain": [
              "['meta']"
            ]
          },
          "metadata": {},
          "execution_count": 10
        }
      ],
      "source": [
        "NUM = 30\n",
        "\n",
        "key = pd.read_csv(\"/content/keyword.txt\", encoding=\"gbk\", names=[\"keyword\"])\n",
        "keywords = []\n",
        "[keywords.append(key[\"keyword\"][x]) for x in range(len(key))]\n",
        "keywords"
      ]
    },
    {
      "cell_type": "code",
      "execution_count": null,
      "metadata": {
        "id": "v-Xr4JWf2IBS"
      },
      "outputs": [],
      "source": [
        "def createFolder(directory):\n",
        "    try:\n",
        "        if not os.path.exists(directory):\n",
        "            os.makedirs(directory)\n",
        "    except OSError:\n",
        "        print(\"Error: Creating directory. \" + directory)"
      ]
    },
    {
      "cell_type": "code",
      "execution_count": null,
      "metadata": {
        "id": "FYkrzA5ApytY"
      },
      "outputs": [],
      "source": [
        "def google_search(keyword):\n",
        "    createFolder(\"./\" + keyword + \"_search_results\")\n",
        "\n",
        "    # chromedriver = 'chromedriver.exe'\n",
        "    # driver = webdriver.Chrome(chromedriver)\n",
        "    driver = webdriver.Chrome(\"chromedriver\")\n",
        "    driver.implicitly_wait(3)\n",
        "\n",
        "    print(\"search\", keyword)\n",
        "    links = []\n",
        "    times = []\n",
        "    titles = []\n",
        "    intros = []\n",
        "    page = 1\n",
        "    while True:\n",
        "        driver.get(\n",
        "            f\"https://www.google.com/search?tbm=nws&num={NUM}&start={(page - 1) * 20}&tbs=cdr%3A1%2Ccd_min%3A11%2F1%2F2021%2Ccd_max%3A2%2F15%2F2022&q=\"\n",
        "            + keyword\n",
        "        )\n",
        "        # driver.get(f'https://www.google.com/search?tbm=nws&num={NUM}&start={(page - 1) * 20}&as_qdr=w9&q=' + keyword)\n",
        "        # driver.get(f'https://www.google.com/search?tbm=nws&num={NUM}&start={(page-1)*20}&as_qdr=h24&q=' + keyword)\n",
        "        time.sleep(2)\n",
        "\n",
        "        el_titles = driver.find_elements_by_css_selector(\"[role='heading']\")  # title\n",
        "        try:\n",
        "            el_titles[-1].text\n",
        "        except:\n",
        "            print(\n",
        "                \"Web page exception, please check whether the web page needs to be verified, wait 5s......\"\n",
        "            )\n",
        "            time.sleep(5)\n",
        "            continue\n",
        "        if el_titles[-1].text != \"next page\":\n",
        "            break\n",
        "        el_links = driver.find_elements_by_css_selector(\"[class='WlydOe']\")  # link\n",
        "        el_times = driver.find_elements_by_css_selector(\n",
        "            \"[class='OSrXXb ZE0LJd']\"\n",
        "        )  # time\n",
        "        el_intros = driver.find_elements_by_css_selector(\"[class='iRPxbe']\")  # intro\n",
        "        if (\n",
        "            len(el_titles) < NUM\n",
        "            or len(el_links) < NUM\n",
        "            or len(el_times) < NUM\n",
        "            or len(el_intros) < NUM\n",
        "        ):\n",
        "            continue\n",
        "        for link in el_links:\n",
        "            # print(link)\n",
        "            if link.get_attribute(\"href\") != None:\n",
        "                links.append(link.get_attribute(\"href\"))\n",
        "        # print('link nums: ', len(links))\n",
        "        for e in el_times:\n",
        "            times.append(e.find_element_by_tag_name(\"span\").text)\n",
        "        # print('time nums: ', len(times))\n",
        "        for e in el_titles:\n",
        "            if e.text not in [\"\", \"last page\", \"next page\"]:\n",
        "                titles.append(e.text)\n",
        "        # print('title nums: ', len(titles))\n",
        "        for e in el_intros:\n",
        "            intros.append(e.find_elements_by_tag_name(\"div\")[2].text)\n",
        "        # print(len(intros), intros)\n",
        "        print(\n",
        "            \"link nums: \",\n",
        "            len(links),\n",
        "            \"time nums: \",\n",
        "            len(times),\n",
        "            \"title nums: \",\n",
        "            len(titles),\n",
        "            \"intro nums: \",\n",
        "            len(intros),\n",
        "        )\n",
        "\n",
        "        page += 1\n",
        "\n",
        "    print(keyword + \"amount of found：\", len(links))\n",
        "    cols = [\"title\", \"link\", \"intro\", \"time\"]\n",
        "    # df = pd.DataFrame(columns=cols,data=[])\n",
        "    df = pd.DataFrame(\n",
        "        {\n",
        "            \"title\": titles,\n",
        "            \"link\": links,\n",
        "            \"intro\": intros,\n",
        "            \"time\": times,\n",
        "        }\n",
        "    )\n",
        "    print(df)\n",
        "    df.to_csv(f\"./{keyword}_search_results/{keyword}.csv\", encoding=\"utf_8_sig\")\n",
        "\n",
        "    print(keyword + \"  - - dowload over - -\")\n",
        "\n",
        "    driver.close()\n",
        "\n",
        "    return"
      ]
    },
    {
      "cell_type": "code",
      "execution_count": null,
      "metadata": {
        "id": "d1spS9hV2IBS"
      },
      "outputs": [],
      "source": [
        "for keyword in keywords:\n",
        "    google_search(keyword)"
      ]
    }
  ]
}